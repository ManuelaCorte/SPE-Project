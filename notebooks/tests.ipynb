{
 "cells": [
  {
   "cell_type": "code",
   "execution_count": 7,
   "metadata": {},
   "outputs": [],
   "source": [
    "import os\n",
    "import sys\n",
    "module_path = os.path.abspath(os.path.join('..'))\n",
    "if module_path not in sys.path:\n",
    "    sys.path.append(module_path)"
   ]
  },
  {
   "cell_type": "code",
   "execution_count": 8,
   "metadata": {},
   "outputs": [],
   "source": [
    "import pandas as pd\n",
    "from src.structs import Indicator, Country\n",
    "from src.utils import plot_time_series, PlotOptions, pacf_plot, acf_plot, Matrix, Float\n",
    "from src.data import serialize_country_data\n",
    "from src.statistics import correlation, differencing, stationarity, autocorrelation\n",
    "import matplotlib.pyplot as plt\n",
    "from statsmodels.api import OLS\n",
    "from typing import Literal\n",
    "import numpy as np"
   ]
  },
  {
   "cell_type": "code",
   "execution_count": null,
   "metadata": {},
   "outputs": [],
   "source": [
    "df = pd.read_csv(\"../data/cleaned/dataset.csv\")\n",
    "country = Country.UNITED_STATES"
   ]
  },
  {
   "cell_type": "code",
   "execution_count": null,
   "metadata": {},
   "outputs": [],
   "source": [
    "def plot_country(country: Country, diff: int = 0):\n",
    "    df = pd.read_csv(\"../data/cleaned/dataset.csv\")\n",
    "    features, years = serialize_country_data(df, country, pct=False)\n",
    "    features_diff: list[Matrix[Literal[\"N\"], Float]] = []\n",
    "    for indicator in Indicator:\n",
    "        ts_diff = differencing(features[indicator], diff)\n",
    "        years_diff = years[diff:]\n",
    "        features_diff.append(ts_diff)\n",
    "\n",
    "        plot_time_series(\n",
    "            years_diff,\n",
    "            ts_diff,\n",
    "            13,\n",
    "            PlotOptions(\n",
    "                \"\",\n",
    "                f\"{country.name} {indicator.name}\",\n",
    "                \"Date\",\n",
    "                \"val\",\n",
    "                [f\"{indicator.name}\", f\"{indicator.name} Average\"],\n",
    "                False,\n",
    "            ),\n",
    "        )\n",
    "\n",
    "        pacf_plot(\n",
    "            years_diff,\n",
    "            ts_diff,\n",
    "            len(years_diff) // 2,\n",
    "            PlotOptions(\n",
    "                \"\",\n",
    "                f\"PACF of {indicator.name}\",\n",
    "                \"Lag\",\n",
    "                \"val\",\n",
    "                [f\"PACF of {indicator.name}\"],\n",
    "                False,\n",
    "            ),\n",
    "        )\n",
    "\n",
    "        acf_plot(\n",
    "            years_diff,\n",
    "            ts_diff,\n",
    "            len(years_diff) // 2,\n",
    "            PlotOptions(\n",
    "                \"\",\n",
    "                f\"ACF of {indicator.name}\",\n",
    "                \"Lag\",\n",
    "                \"val\",\n",
    "                [f\"ACF of {indicator.name}\"],\n",
    "                False,\n",
    "            ),\n",
    "        )\n",
    "\n",
    "        adf, kpss = stationarity(ts_diff)\n",
    "        print(\"Stationarity test for\", indicator.name)\n",
    "        print(adf)\n",
    "        print(\"\")\n",
    "        print(kpss)\n",
    "        print()\n",
    "\n",
    "        acf, pacf = autocorrelation(ts_diff)\n",
    "        print(\"Autocorrelation for\", indicator.name)\n",
    "        print(acf)\n",
    "        print(\"\")\n",
    "        print(pacf)\n",
    "        print(\"--------------------\")\n",
    "\n",
    "    corr = correlation(\n",
    "        features_diff,\n",
    "        PlotOptions(\n",
    "            \"\",\n",
    "            f\"{country.name} Correlation\",\n",
    "            \"Indicator\",\n",
    "            \"Indicator\",\n",
    "            [indicator.name for indicator in Indicator],\n",
    "            False,\n",
    "        ),\n",
    "    )\n",
    "    print(\"Correlation matrices for Pearson, Spearmen and Kendall tau:\")\n",
    "    print(corr)\n",
    "    plt.show()"
   ]
  },
  {
   "cell_type": "code",
   "execution_count": null,
   "metadata": {},
   "outputs": [],
   "source": [
    "plot_country(country, 1)"
   ]
  },
  {
   "cell_type": "code",
   "execution_count": null,
   "metadata": {},
   "outputs": [],
   "source": [
    "features, _ = serialize_country_data(df, country, pct=True)\n",
    "gdp = differencing(features[Indicator.GDP], 0)\n",
    "ir = differencing(features[Indicator.IR], 0)\n",
    "cpi = differencing(features[Indicator.CPI], 0)\n",
    "ols = OLS(gdp, np.column_stack((ir, cpi))).fit()"
   ]
  },
  {
   "cell_type": "code",
   "execution_count": null,
   "metadata": {},
   "outputs": [],
   "source": [
    "ols.summary()"
   ]
  },
  {
   "cell_type": "code",
   "execution_count": null,
   "metadata": {},
   "outputs": [],
   "source": [
    "plot_country(Country.JAPAN, 0)"
   ]
  }
 ],
 "metadata": {
  "kernelspec": {
   "display_name": ".venv",
   "language": "python",
   "name": "python3"
  },
  "language_info": {
   "codemirror_mode": {
    "name": "ipython",
    "version": 3
   },
   "file_extension": ".py",
   "mimetype": "text/x-python",
   "name": "python",
   "nbconvert_exporter": "python",
   "pygments_lexer": "ipython3",
   "version": "3.12.3"
  }
 },
 "nbformat": 4,
 "nbformat_minor": 2
}
